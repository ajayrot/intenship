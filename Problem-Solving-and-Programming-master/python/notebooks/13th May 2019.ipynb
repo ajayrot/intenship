{
 "cells": [
  {
   "cell_type": "markdown",
   "metadata": {},
   "source": [
    "# Problem solving and Programming\n",
    "\n",
    "### Day no - 15\n",
    "### Date - 13th May 2019\n"
   ]
  },
  {
   "cell_type": "markdown",
   "metadata": {},
   "source": [
    "### Problem 1: \n",
    "#### Problem Statement:\n",
    " Define a function to validate email addresses based on the following rules.\n",
    "\n",
    "* Email should be in the format username@domain.extension\n",
    "* username must start with an alphabet and can contain lowercase alphabet, digits, hyphen(-) and underscores( _ ).\n",
    "* username must not contain special characters, uppercase letters, whitespaces.\n",
    "* Length of username must be in the range (6, 16)\n",
    "* Domain can only contain lowercase alphabet and digits with length in range (3, 10) . No special characters are allowed\n",
    "* Extension can only contain lower case alphabet and its length must be in the range (2, 4)\n",
    "\n",
    "First line of input contains total number of email addresses n.  Next n lines contain  n email addresses.\n",
    "\n",
    "Output must contain contain  n  lines with either 'Valid' or 'Invalid'\n",
    "00\n",
    "#### Sample Input :\n",
    "6\n",
    "\n",
    "abc456@gmail.com\n",
    "\n",
    "456abc@yahoo.com\n",
    "\n",
    "abc_456@gitam.ed1\n",
    "\n",
    "abc-456@abc-d.in\n",
    "\n",
    "python@python.edu\n",
    "\n",
    "abc 456@edu.edu\n",
    "\n",
    "#### Sample Output :\n",
    "Valid\n",
    "\n",
    "Invalid\n",
    "\n",
    "Invalid\n",
    "\n",
    "Invalid\n",
    "\n",
    "Valid\n",
    "\n",
    "Invalid\n"
   ]
  },
  {
   "cell_type": "code",
   "execution_count": 1,
   "metadata": {},
   "outputs": [
    {
     "name": "stdout",
     "output_type": "stream",
     "text": [
      "valid\n",
      "invalid\n",
      "invalid\n",
      "invalid\n",
      "valid\n",
      "invalid\n"
     ]
    }
   ],
   "source": [
    "def email(a):\n",
    "        l1=[chr(x) for x in range(97,123)]\n",
    "        l2=[chr(x) for x in range(65,95)]\n",
    "        l3=['/','`']\n",
    "        l4=[chr(x) for x in range(32,45)]\n",
    "        l5=[chr(x) for x in range(58,64)]\n",
    "        l6=[chr(x) for x in range(123,127)]\n",
    "        l7=[chr(x) for x in range(48,58)]\n",
    "    \n",
    "        if '@' not in a or '.' not in a:\n",
    "            return 'invalid'\n",
    "        u=a[0:a.index('@')]\n",
    "        d=a[a.index('@')+1:a.index('.')]\n",
    "        e=a[a.index('.')+1:]\n",
    "        if a[0] not in l1:\n",
    "            return 'invalid'\n",
    "        for x in u:\n",
    "            if x in l2 or x in l3 or x in l4 or x in l5 or x in l6:\n",
    "                return 'invalid'\n",
    "        if len(u)<6 and len(u)>15:\n",
    "            return 'invalid'\n",
    "        if len(d)<3 and len(d)>9:\n",
    "            return 'invalid'\n",
    "        for x in d:\n",
    "            if x not in l1 and x not in l7:\n",
    "                return 'invalid'\n",
    "        if len(e)<2 and len(e)>3:\n",
    "            return 'invalid'\n",
    "        for x in e:\n",
    "            if x not in l1:\n",
    "                return 'invalid'\n",
    "        return 'valid'\n",
    "        \n",
    "a=['abc456@gmail.com','456abc@yahoo.com','abc_456@gitam.ed1','abc-456@abc-d.in','python@python.edu','abc 456@edu.edu']\n",
    "for i in range(0,6):\n",
    "    print(email(a[i]))        \n",
    "            \n",
    "        \n",
    "        \n",
    "    "
   ]
  },
  {
   "cell_type": "code",
   "execution_count": null,
   "metadata": {},
   "outputs": [],
   "source": []
  },
  {
   "cell_type": "markdown",
   "metadata": {},
   "source": [
    "### Problem 2: \n",
    "#### Problem Statement:\n",
    "Define a function that take an array of integers A, and an integer K and returns the longest possible sub-set of A i.e A' such that the sum of no two elements in A' is divisible by K.\n",
    "\n",
    "First line in input contains the length of A and the integer K. Second line of input contains len(A) space-separated integers.\n",
    "\n",
    "Output must contain the length of A' list\n",
    "\n",
    "#### Sample Input :   \n",
    "4  3\n",
    "\n",
    "1 7 2 4\n",
    "\n",
    "#### Sample Output :\n",
    "3\n",
    "\n"
   ]
  },
  {
   "cell_type": "code",
   "execution_count": 2,
   "metadata": {},
   "outputs": [
    {
     "name": "stdout",
     "output_type": "stream",
     "text": [
      "3\n"
     ]
    }
   ],
   "source": [
    "def longestsubset(n,k,li):\n",
    "    for i in range(n-1,-1,-1):\n",
    "        a=[1,7,2,4]\n",
    "        a.pop(i)\n",
    "        ans=istrue(a,k)\n",
    "        if ans==1:\n",
    "            return len(a)\n",
    "    for i in range(0,n-1):\n",
    "        a=[1,7,2,4]\n",
    "        a.pop(i)\n",
    "        a.pop(i)\n",
    "        ans=istrue(a,k)\n",
    "        if ans==1:\n",
    "            return len(a)\n",
    "    for i in range(0,n-2):\n",
    "        a=[1,7,2,4]\n",
    "        a.pop(i)\n",
    "        a.pop(i+1)\n",
    "        ans=istrue(a,k)\n",
    "        if ans==1:\n",
    "            return len(a)\n",
    "    for i in range(0,n-3):\n",
    "        a=[1,7,2,4]\n",
    "        a.pop(i)\n",
    "        a.pop(i+2)\n",
    "        ans=istrue(a,k)\n",
    "        if ans==1:\n",
    "            return len(a)\n",
    "    a=[1,7,2,4]\n",
    "    for i in range(0,n):\n",
    "        ans=istrue(a,k)\n",
    "        if ans==1:\n",
    "            return len(a)\n",
    "    \n",
    "def istrue(s,k):\n",
    "    for i in range(0,len(s)):\n",
    "        for j in range(i+1,len(s)):\n",
    "            if (s[i]+s[j])%k==0:\n",
    "                return 0\n",
    "        return 1\n",
    "            \n",
    "print(longestsubset(4,3,[1,7,2,4]))"
   ]
  },
  {
   "cell_type": "code",
   "execution_count": null,
   "metadata": {},
   "outputs": [],
   "source": []
  }
 ],
 "metadata": {
  "kernelspec": {
   "display_name": "Python 3",
   "language": "python",
   "name": "python3"
  },
  "language_info": {
   "codemirror_mode": {
    "name": "ipython",
    "version": 3
   },
   "file_extension": ".py",
   "mimetype": "text/x-python",
   "name": "python",
   "nbconvert_exporter": "python",
   "pygments_lexer": "ipython3",
   "version": "3.7.3"
  }
 },
 "nbformat": 4,
 "nbformat_minor": 2
}
