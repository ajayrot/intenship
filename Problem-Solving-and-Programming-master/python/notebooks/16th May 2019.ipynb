{
 "cells": [
  {
   "cell_type": "markdown",
   "metadata": {},
   "source": [
    "# Problem solving and Programming\n",
    "\n",
    "### Day no - 18\n",
    "### Date - 16th May 2019\n"
   ]
  },
  {
   "cell_type": "markdown",
   "metadata": {},
   "source": [
    "### Problem 1: \n",
    "#### Problem Statement: \n",
    "Define a function to read the data fro a text file\n",
    "\n",
    "\n",
    "f.read() -> to read entire data in the file\n",
    "\n",
    "f.readline() -> to read a single line of data in the file"
   ]
  },
  {
   "cell_type": "code",
   "execution_count": 4,
   "metadata": {},
   "outputs": [
    {
     "data": {
      "text/plain": [
       "'line1 of datafile\\nline2 of datafile\\n'"
      ]
     },
     "execution_count": 4,
     "metadata": {},
     "output_type": "execute_result"
    }
   ],
   "source": [
    "def readfiledata(filename):\n",
    "    f=open(filename,'r')\n",
    "    filedata=f.readline()   #readline function reads one line \n",
    "    filedata+=f.readline() \n",
    "    f.close()\n",
    "    return filedata\n",
    "\n",
    "readfiledata('DataFiles/data.txt')\n"
   ]
  },
  {
   "cell_type": "code",
   "execution_count": 5,
   "metadata": {},
   "outputs": [
    {
     "data": {
      "text/plain": [
       "'line1 of datafile\\nline2 of datafile\\nline3 of datafile'"
      ]
     },
     "execution_count": 5,
     "metadata": {},
     "output_type": "execute_result"
    }
   ],
   "source": [
    "def readfiledata(filename):\n",
    "    f=open(filename,'r')\n",
    "    filedata=f.read()   #read function reads entire data in the file  \n",
    "    f.close()\n",
    "    return filedata\n",
    "\n",
    "readfiledata('DataFiles/data.txt')\n"
   ]
  },
  {
   "cell_type": "code",
   "execution_count": 6,
   "metadata": {},
   "outputs": [
    {
     "data": {
      "text/plain": [
       "'line1 of datafile\\nline2 of datafile\\nline3 of datafile'"
      ]
     },
     "execution_count": 6,
     "metadata": {},
     "output_type": "execute_result"
    }
   ],
   "source": [
    "def readfiledata(filename):\n",
    "    with open(filename,'r') as f:    # if we use with we need not close and open file \n",
    "        filedata=f.read()   \n",
    "    return filedata\n",
    "\n",
    "readfiledata('DataFiles/data.txt')\n"
   ]
  },
  {
   "cell_type": "code",
   "execution_count": 8,
   "metadata": {},
   "outputs": [
    {
     "name": "stdout",
     "output_type": "stream",
     "text": [
      "line1 of datafile\n",
      "line2 of datafile\n",
      "line3 of datafile"
     ]
    }
   ],
   "source": [
    "def readfiledata(filename):\n",
    "    with open(filename,'r') as f:   \n",
    "        for line in f:\n",
    "            print(line,end='')   \n",
    "    return \n",
    "\n",
    "readfiledata('DataFiles/data.txt')\n"
   ]
  },
  {
   "cell_type": "code",
   "execution_count": 12,
   "metadata": {},
   "outputs": [
    {
     "name": "stdout",
     "output_type": "stream",
     "text": [
      "line1 of datafile\n",
      "line2 of datafile\n",
      "line3 of datafile\n"
     ]
    }
   ],
   "source": [
    "def readfiledata(filename):\n",
    "    with open(filename,'r') as f:   \n",
    "        print(f.read())\n",
    "    return \n",
    "\n",
    "readfiledata('DataFiles/data.txt')\n"
   ]
  },
  {
   "cell_type": "code",
   "execution_count": 13,
   "metadata": {},
   "outputs": [],
   "source": [
    "def writeintofile(filename,data):\n",
    "    with open(filename,'w') as f:\n",
    "        f.write(data)\n",
    "    return\n",
    "\n",
    "writeintofile('DataFiles/filewrite.txt','data written into filewrite')"
   ]
  },
  {
   "cell_type": "code",
   "execution_count": 16,
   "metadata": {},
   "outputs": [],
   "source": [
    "def writeintofile(filename,data,m):\n",
    "    with open(filename,m) as f:\n",
    "        f.write(data)\n",
    "    return\n",
    "\n",
    "writeintofile('DataFiles/data.txt','\\nline4 of datafile','a')"
   ]
  },
  {
   "cell_type": "code",
   "execution_count": null,
   "metadata": {},
   "outputs": [],
   "source": []
  },
  {
   "cell_type": "markdown",
   "metadata": {},
   "source": [
    "### Problem 2: \n",
    "#### Problem Statement: \n",
    "Define a function to generate Marks data file for 1300 students such that each mark is entered in a newline. Marks range from 0 to 100(i.e,[0,100])"
   ]
  },
  {
   "cell_type": "code",
   "execution_count": 35,
   "metadata": {},
   "outputs": [],
   "source": [
    "from random import randrange\n",
    "\n",
    "def generatemarks(filename):\n",
    "    with open(filename,'w') as f:\n",
    "        for i in range(0,1300):\n",
    "            f.write(str(randrange(0,101))+'\\n')\n",
    "            \n",
    "    return\n",
    "\n",
    "generatemarks('DataFiles/Marks.txt')"
   ]
  },
  {
   "cell_type": "code",
   "execution_count": null,
   "metadata": {},
   "outputs": [],
   "source": []
  },
  {
   "cell_type": "markdown",
   "metadata": {},
   "source": [
    "### Problem 3: \n",
    "#### Problem Statement:\n",
    "Generate a report on the marksdata with the following indicators\n",
    "* Highest Mark :\n",
    "* Lowest Mark :\n",
    "* Average Mark :\n",
    "* Number of students with distinction(>80) :\n",
    "* Number of students with first class(>60) :\n",
    "* Number of students with second class(>50) :\n",
    "* Number of students with third class(>40) :\n",
    "* Number of students failed(<40) :"
   ]
  },
  {
   "cell_type": "code",
   "execution_count": 152,
   "metadata": {},
   "outputs": [
    {
     "data": {
      "text/plain": [
       "0.0030284049971669447"
      ]
     },
     "execution_count": 152,
     "metadata": {},
     "output_type": "execute_result"
    }
   ],
   "source": [
    "def readfiledata(filename):\n",
    "    with open(filename,'r') as f: \n",
    "        marks=[]\n",
    "        for line in f:\n",
    "            marks.append(int(line))  \n",
    "    return marks\n",
    "\n",
    "def generatereport(filename):\n",
    "    start=timeit.default_timer()\n",
    "    marks=readfiledata('DataFiles/Marks.txt')\n",
    "    with open(filename,'w') as f:\n",
    "        f.write('Highest Mark :'+str(max(marks))+'\\n')\n",
    "        f.write('Lowest Mark :'+str(min(marks))+'\\n')\n",
    "        f.write('Average Mark :'+str(sum(marks)/len(marks))+'\\n')\n",
    "        count=0\n",
    "        for x in marks:\n",
    "            if x>=80:\n",
    "                count=count+1\n",
    "        f.write('No of students with distinction :'+str(count)+'\\n')\n",
    "        count=0\n",
    "        for x in marks:\n",
    "            if x>=60 and x<80:\n",
    "                count=count+1\n",
    "        f.write('No of students with first class :'+str(count)+'\\n')\n",
    "        count=0\n",
    "        for x in marks:\n",
    "            if x>=50 and x<60:\n",
    "                count=count+1\n",
    "        f.write('No of students with second class :'+str(count)+'\\n')\n",
    "        count=0\n",
    "        for x in marks:\n",
    "            if x>=40 and x<50:\n",
    "                count=count+1\n",
    "        f.write('No of students with third class :'+str(count)+'\\n')\n",
    "        count=0\n",
    "        for x in marks:\n",
    "            if x<40:\n",
    "                count=count+1\n",
    "        f.write('No of students failed :'+str(count))\n",
    "        \n",
    "            \n",
    "    return timeit.default_timer()-start\n",
    "\n",
    "generatereport('DataFiles/Report.txt')\n"
   ]
  },
  {
   "cell_type": "code",
   "execution_count": 105,
   "metadata": {},
   "outputs": [],
   "source": [
    "import timeit,re\n",
    "f=open('DataFiles/Marks.txt','r')\n",
    "marksdata=f.read()\n",
    "marksdata=re.split(r'\\n',marksdata)\n",
    "marksdata=list(map(int,marksdata[:len(marksdata)-2]))"
   ]
  },
  {
   "cell_type": "code",
   "execution_count": 165,
   "metadata": {},
   "outputs": [
    {
     "data": {
      "text/plain": [
       "0.00301866500012693"
      ]
     },
     "execution_count": 165,
     "metadata": {},
     "output_type": "execute_result"
    }
   ],
   "source": [
    "import re\n",
    "def readfiledata(filename):\n",
    "    with open(filename,'r') as f: \n",
    "        marks=f.read()\n",
    "        marks=re.split(r'\\n',marks)\n",
    "        marks=list(map(int,marks[:len(marks)-1]))\n",
    "    return marks\n",
    "def distinction(n):\n",
    "    return n>=80\n",
    "def first(n):\n",
    "    return 60<=n<80\n",
    "def second(n):\n",
    "    return 50<=n<60\n",
    "def generatereport(filename):\n",
    "    start=timeit.default_timer()\n",
    "    marks=readfiledata('DataFiles/Marks.txt')\n",
    "    dis=sum(map(distinction,marks))\n",
    "    fi=sum(map(first,marks))\n",
    "    s=sum(map(second,marks))\n",
    "    t=sum(1 for i in marks if i>=40 and i<50)\n",
    "    fail=sum(1 for i in marks if i<40)\n",
    "    with open(filename,'w') as f:\n",
    "        f.write('Highest Mark :'+str(max(marks))+'\\n')\n",
    "        f.write('Lowest Mark :'+str(min(marks))+'\\n')\n",
    "        f.write('Average Mark :'+str(sum(marks)/len(marks))+'\\n')\n",
    "        f.write('No of students with distinction :'+str(dis)+'\\n')\n",
    "        f.write('No of students with first class :'+str(fi)+'\\n')\n",
    "        f.write('No of students with second class :'+str(s)+'\\n')\n",
    "        f.write('No of students with third class :'+str(t)+'\\n')\n",
    "        f.write('No of students failed :'+str(fail))\n",
    "    return timeit.default_timer()-start\n",
    "\n",
    "generatereport('DataFiles/Report.txt')\n"
   ]
  },
  {
   "cell_type": "code",
   "execution_count": null,
   "metadata": {},
   "outputs": [],
   "source": []
  },
  {
   "cell_type": "code",
   "execution_count": 3,
   "metadata": {},
   "outputs": [
    {
     "name": "stdout",
     "output_type": "stream",
     "text": [
      "[[1 2 3]\n",
      " [4 5 6]]\n"
     ]
    },
    {
     "data": {
      "text/plain": [
       "numpy.ndarray"
      ]
     },
     "execution_count": 3,
     "metadata": {},
     "output_type": "execute_result"
    }
   ],
   "source": [
    "import numpy \n",
    "\n",
    "a=numpy.array([[1,2,3],[4,5,6]])\n",
    "print(a)\n",
    "type(a)"
   ]
  },
  {
   "cell_type": "code",
   "execution_count": null,
   "metadata": {},
   "outputs": [],
   "source": []
  }
 ],
 "metadata": {
  "kernelspec": {
   "display_name": "Python 3",
   "language": "python",
   "name": "python3"
  },
  "language_info": {
   "codemirror_mode": {
    "name": "ipython",
    "version": 3
   },
   "file_extension": ".py",
   "mimetype": "text/x-python",
   "name": "python",
   "nbconvert_exporter": "python",
   "pygments_lexer": "ipython3",
   "version": "3.7.3"
  }
 },
 "nbformat": 4,
 "nbformat_minor": 2
}
