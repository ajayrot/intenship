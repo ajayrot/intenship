{
 "cells": [
  {
   "cell_type": "markdown",
   "metadata": {},
   "source": [
    "# Problem solving and Programming\n",
    "\n",
    "### Day no - 13\n",
    "### Date - 11th May 2019\n",
    "\n"
   ]
  },
  {
   "cell_type": "markdown",
   "metadata": {},
   "source": [
    "### Problem 1: \n",
    "#### Problem Statement: \n",
    "Define a function to convert a decimal number to the corresponding binary number\n",
    "#### Constraints\n",
    "1<=n<=10^9\n",
    "#### Test Cases\n",
    "* decimalToBinary(15) -> 1111\n",
    "* decimalToBinary(1) -> 1\n",
    "* decimalToBinary(0) -> 0\n"
   ]
  },
  {
   "cell_type": "code",
   "execution_count": 29,
   "metadata": {},
   "outputs": [
    {
     "name": "stdout",
     "output_type": "stream",
     "text": [
      "111000\n",
      "1111\n",
      "1\n",
      "0\n"
     ]
    }
   ],
   "source": [
    "def decimaltobinary(n):\n",
    "    if n==0:\n",
    "        return 0\n",
    "    a=''\n",
    "    while n!=0:\n",
    "        a=str(n%2)+a\n",
    "        n=n//2\n",
    "    return int(a)\n",
    "\n",
    "print(decimaltobinary(56))\n",
    "print(decimaltobinary(15))\n",
    "print(decimaltobinary(1))\n",
    "print(decimaltobinary(0))"
   ]
  },
  {
   "cell_type": "code",
   "execution_count": null,
   "metadata": {},
   "outputs": [],
   "source": []
  },
  {
   "cell_type": "markdown",
   "metadata": {},
   "source": [
    "### Problem 2: \n",
    "#### Problem Statement: \n",
    "Define a function to check if a given year is a leap year. Returns a boolean value\n",
    "#### Constraints\n",
    "1<=n<=10^4\n",
    "#### Test Cases\n",
    "* isleapyear(2000) -> True\n",
    "* isleapyear(1900) -> False\n",
    "* isleapyear(2012) -> True\n",
    "* isleapyear(2020) -> True\n",
    "* isleapyear(0200) -> False"
   ]
  },
  {
   "cell_type": "code",
   "execution_count": 46,
   "metadata": {},
   "outputs": [
    {
     "name": "stdout",
     "output_type": "stream",
     "text": [
      "True\n",
      "False\n",
      "True\n",
      "True\n",
      "False\n"
     ]
    }
   ],
   "source": [
    "def isleapyear(n):\n",
    "    if (str(n)[len(str(n))-1:len(str(n))-3:-1]=='00'):\n",
    "        if (n%400==0):\n",
    "            return True\n",
    "        else:\n",
    "            return False\n",
    "    if n%4==0:\n",
    "        return True\n",
    "    else:\n",
    "        return False\n",
    "        \n",
    "\n",
    "print(isleapyear(2000))\n",
    "print(isleapyear(1900))\n",
    "print(isleapyear(2012))\n",
    "print(isleapyear(2020))\n",
    "print(isleapyear(200))"
   ]
  },
  {
   "cell_type": "code",
   "execution_count": null,
   "metadata": {},
   "outputs": [],
   "source": []
  },
  {
   "cell_type": "markdown",
   "metadata": {},
   "source": [
    "### Problem 3: \n",
    "#### Problem Statement :\n",
    "Design a Python script to determine the difference in date for given two dates in YYYY:MM:DD format(0 <= YYYY <= 9999, 1 <= MM <= 12, 1 <= DD <= 31) following the leap year rules. Return the total number of days existing between the two dates.\n",
    "#### Constraints\n",
    "0 <= YYYY <= 9999\n",
    "\n",
    "1 <= MM <= 12\n",
    "\n",
    "1 <= DD <= 31\n",
    "#### Test Cases\n",
    "* daysDifference('2019:05:10', '2019:05:01') -> 9\n",
    "* daysDifference('0003:03:03', '0003:06:06') -> 95"
   ]
  },
  {
   "cell_type": "code",
   "execution_count": 78,
   "metadata": {},
   "outputs": [
    {
     "name": "stdout",
     "output_type": "stream",
     "text": [
      "9\n",
      "95\n"
     ]
    }
   ],
   "source": [
    "def daysdifference(a,b):\n",
    "    y=abs(int(a[0:4])-int(b[0:4]))\n",
    "    m=abs(int(a[5:7])-int(b[5:7]))\n",
    "    d=abs(int(a[8:10])-int(b[8:10]))\n",
    "    count=0\n",
    "    for i in range(int(a[0:4]),int(b[0:4])):\n",
    "        if i%4==0 and i%100!=0:\n",
    "            count=count+1\n",
    "        elif i%400==0:\n",
    "            count=count+1\n",
    "    for i in range(int(a[5:7]),int(b[5:7])):\n",
    "        if i in [1,3,5,7,8,10,12]:\n",
    "            count=count+1\n",
    "        if i==2:\n",
    "            count=count-2\n",
    "    return (y*365)+(m*30)+d+count\n",
    "\n",
    "print(daysdifference('2019:05:10', '2019:05:01')) \n",
    "print(daysdifference('0003:03:03', '0003:06:06'))"
   ]
  },
  {
   "cell_type": "code",
   "execution_count": null,
   "metadata": {},
   "outputs": [],
   "source": []
  },
  {
   "cell_type": "markdown",
   "metadata": {},
   "source": [
    "### Problem 4: \n",
    "#### Problem Statement:\n",
    "Define a function to find the average of all the outer elements of an N x M matrix.\n",
    "#### Test Cases\n",
    "* averageOuterMatrix([[1, 2, 3], [4, 5, 6], [7, 8, 9], [10, 11, 12]]) -> 6.5"
   ]
  },
  {
   "cell_type": "code",
   "execution_count": 74,
   "metadata": {},
   "outputs": [
    {
     "data": {
      "text/plain": [
       "6.5"
      ]
     },
     "execution_count": 74,
     "metadata": {},
     "output_type": "execute_result"
    }
   ],
   "source": [
    "def averageOuterMatrix(a):\n",
    "    c=s=0\n",
    "    \n",
    "    for i in range(0,len(a)):\n",
    "        if i==0 or i==len(a)-1:\n",
    "            s=s+sum(a[i])\n",
    "            c=c+len(a[i])\n",
    "        else:\n",
    "            s=s+a[i][0]+a[i][len(a[i])-1]\n",
    "            c=c+2\n",
    "    return s/c\n",
    "\n",
    "averageOuterMatrix([[1, 2, 3], [4, 5, 6], [7, 8, 9], [10, 11, 12]])"
   ]
  },
  {
   "cell_type": "code",
   "execution_count": null,
   "metadata": {},
   "outputs": [],
   "source": []
  },
  {
   "cell_type": "markdown",
   "metadata": {},
   "source": [
    "### Problem 5: \n",
    "#### Problem Statement: \n",
    "Define a function to print the sequence of spiral pattern elements for a given N x N matrix\n",
    "#### Test Cases\n",
    "* spiralPattern([[1,2,3], [4,5,6], [7,8,9]]) -> 1 2 3 6 9 8 7 4 5"
   ]
  },
  {
   "cell_type": "code",
   "execution_count": 136,
   "metadata": {},
   "outputs": [
    {
     "name": "stdout",
     "output_type": "stream",
     "text": [
      "1 2 3 4 5 6 7 8 9 \n",
      "1 2 3 4 5 6 7 8 9 10 11 12 13 14 15 16 \n",
      "1 2 3 4 5 6 7 8 9 10 11 12 13 14 15 16 17 18 19 20 21 22 23 24 25 \n",
      "1 2 3 4 5 6 7 8 9 10 11 12 13 14 15 16 17 18 19 20 21 22 23 24 25 26 27 28 29 30 31 32 33 34 35 36 37 38 39 40 41 42 43 44 45 46 47 48 49 50 51 52 53 54 55 56 57 58 59 60 61 62 63 64 65 66 67 68 69 70 71 72 73 74 75 76 77 78 79 80 81 82 83 84 85 86 87 88 89 90 91 92 93 94 95 96 97 98 99 100 101 102 103 104 105 106 107 108 109 110 107 "
     ]
    }
   ],
   "source": [
    "def spiralPattern(a):\n",
    "    if len(a)%2==0:\n",
    "        n=len(a)\n",
    "    else:\n",
    "        n=len(a)+1\n",
    "    j=0\n",
    "    k=1\n",
    "    while n!=0:\n",
    "        for i in range(j,len(a[j])-k):\n",
    "            print(a[j][i],end=' ')\n",
    "        for i in range(j,len(a)-k):\n",
    "            print(a[i][len(a[j])-k],end=' ')\n",
    "        for i in range(len(a[j])-k,j,-1):\n",
    "            print(a[len(a)-k][i],end=' ') \n",
    "        for i in range(len(a)-k,j,-1):\n",
    "            print(a[i][j],end=' ')\n",
    "        n=n-2\n",
    "        j=j+1\n",
    "        k=k+1\n",
    "    if len(a)%2==1:\n",
    "        print(a[len(a)//2][len(a)//2],end=' ')\n",
    "    \n",
    "spiralPattern([[1,2,3],[8,9,4],[7,6,5]])  \n",
    "print(end='\\n')\n",
    "spiralPattern([[1,2,3,4],[12,13,14,5],[11,16,15,6],[10,9,8,7]])\n",
    "print(end='\\n')\n",
    "spiralPattern([[1,2,3,4,5],[16,17,18,19,6],[15,24,25,20,7],[14,23,22,21,8],[13,12,11,10,9]])\n",
    "print(end='\\n')\n",
    "spiralPattern([[1,2,3,4,5,6,7,8,9,10],[38,39,40,41,42,43,44,45,46,11],[37,68,69,70,71,72,73,74,47,12],[36,67,90,91,92,93,94,75,48,13],[35,66,89,104,105,106,95,76,49,14],[34,65,88,103,110,107,96,77,50,15],[33,64,87,102,109,108,97,78,51,16],[32,63,86,101,100,99,98,79,52,17],[31,62,85,84,83,82,81,80,53,18],[30,61,60,59,58,57,56,55,54,19],[29,28,27,26,25,24,23,22,21,20]])"
   ]
  },
  {
   "cell_type": "code",
   "execution_count": null,
   "metadata": {},
   "outputs": [],
   "source": [
    "[1,2,3,4,5,6,7,8,9,10],[38,39,40,41,42,43,44,45,46,11],[37,68,69,70,71,72,73,74,47,12],[36,67,90,91,92,93,94,75,48,13],[35,66,89,104,105,106,95,76,49,14],[34,65,88,103,110,107,96,77,50,15],[33,64,87,102,109,108,97,78,51,16],[32,63,86,101,100,99,98,79,52,17],[31,62,85,84,83,82,81,80,53,18],[30,61,60,59,58,57,56,55,54,19],[29,28,27,26,25,24,23,22,21,20]"
   ]
  }
 ],
 "metadata": {
  "kernelspec": {
   "display_name": "Python 3",
   "language": "python",
   "name": "python3"
  },
  "language_info": {
   "codemirror_mode": {
    "name": "ipython",
    "version": 3
   },
   "file_extension": ".py",
   "mimetype": "text/x-python",
   "name": "python",
   "nbconvert_exporter": "python",
   "pygments_lexer": "ipython3",
   "version": "3.7.3"
  }
 },
 "nbformat": 4,
 "nbformat_minor": 2
}
