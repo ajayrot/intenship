{
 "cells": [
  {
   "cell_type": "markdown",
   "metadata": {},
   "source": [
    "# Problem solving and Programming\n",
    "\n",
    "### Day no : 11\n",
    "### Date : 09 - 05 - 2019\n",
    "\n",
    "### Day outcomes :\n",
    "1. Objective 1\n",
    "2. Objective 2\n"
   ]
  },
  {
   "cell_type": "markdown",
   "metadata": {},
   "source": [
    "## Problem 1:\n",
    "#### Problem Statement :\n",
    "check whether the given number is Even or Odd\n",
    "#### Constraints :\n",
    "1<=n<=10^9\n",
    "#### Test cases :\n",
    "* EvenorOdd(25) -> False\n",
    "\n",
    "* EvenorOdd(50) -> True\n",
    "\n",
    "* EvenorOdd(46) -> True"
   ]
  },
  {
   "cell_type": "code",
   "execution_count": 283,
   "metadata": {},
   "outputs": [
    {
     "name": "stdout",
     "output_type": "stream",
     "text": [
      "False\n",
      "True\n",
      "True\n"
     ]
    }
   ],
   "source": [
    "def EvenorOdd(n):\n",
    "    if(n%2==0):\n",
    "        return True\n",
    "    else:\n",
    "        return False\n",
    "        \n",
    "print(EvenorOdd(25))\n",
    "print(EvenorOdd(50))\n",
    "print(EvenorOdd(46))"
   ]
  },
  {
   "cell_type": "code",
   "execution_count": null,
   "metadata": {},
   "outputs": [],
   "source": []
  },
  {
   "cell_type": "markdown",
   "metadata": {},
   "source": [
    "## Problem 2:\n",
    "#### Problem Statement : \n",
    "Program to find greatest among 3 given numbers\n",
    "#### Constraints :\n",
    "1<=a<=10^9\n",
    "\n",
    "1<=b<=10^9\n",
    "\n",
    "1<=c<=10^9\n",
    "#### Test cases:\n",
    "* greatestof3(15,20,25) -> 25\n",
    "\n",
    "* greatestof3(354,456,43) -> 456\n",
    "\n",
    "* greatestof3(10,8,5) -> 10\n"
   ]
  },
  {
   "cell_type": "code",
   "execution_count": 84,
   "metadata": {},
   "outputs": [
    {
     "name": "stdout",
     "output_type": "stream",
     "text": [
      "25\n",
      "456\n",
      "10\n"
     ]
    }
   ],
   "source": [
    "def greatestof3(a,b,c):\n",
    "    if(a>b and a>c):\n",
    "        return a\n",
    "    elif(b>c):\n",
    "        return b\n",
    "    else:\n",
    "        return c\n",
    "    \n",
    "print(greatestof3(15,20,25))\n",
    "print(greatestof3(354,456,43))\n",
    "print(greatestof3(10,8,5))"
   ]
  },
  {
   "cell_type": "code",
   "execution_count": null,
   "metadata": {},
   "outputs": [],
   "source": []
  },
  {
   "cell_type": "markdown",
   "metadata": {},
   "source": [
    "## Problem 3:\n",
    "#### Problem Statement : \n",
    "Given two integers a and b , return True if any one of the integer is 10 or sum of the two integers is 10\n",
    "#### Constraints :\n",
    "1<=a<=10^9\n",
    "\n",
    "1<=b<=10^9\n",
    "#### Test cases:\n",
    "* makes10(9,10) -> True\n",
    "\n",
    "* makes10(10,9) -> True\n",
    "\n",
    "* makes10(1,9) -> True\n",
    "\n",
    "* makes10(3,-7) -> False\n"
   ]
  },
  {
   "cell_type": "code",
   "execution_count": 85,
   "metadata": {},
   "outputs": [
    {
     "name": "stdout",
     "output_type": "stream",
     "text": [
      "True\n",
      "True\n",
      "True\n",
      "False\n"
     ]
    }
   ],
   "source": [
    "def makes10(a,b):\n",
    "    return (a==10 or b==10 or (a+b)==10)\n",
    "                \n",
    "print(makes10(9,10))\n",
    "print(makes10(10,9))\n",
    "print(makes10(1,9)) \n",
    "print(makes10(3,-7))"
   ]
  },
  {
   "cell_type": "code",
   "execution_count": null,
   "metadata": {},
   "outputs": [],
   "source": []
  },
  {
   "cell_type": "markdown",
   "metadata": {},
   "source": [
    "## Problem 4:\n",
    "#### Problem Statement : \n",
    "given two integers , return true if one is positive and one is negative , except if the parameter negative is true and if both the numbers are negative\n",
    "#### Constraints :\n",
    "1<=a<=10^9\n",
    "\n",
    "1<=b<=10^9\n",
    "#### Test cases:\n",
    "* pos_neg(1,-1,False) -> True\n",
    "\n",
    "* pos_neg(-1,1,False) -> True\n",
    "\n",
    "* pos_neg(-4,-5,True) -> True\n",
    "\n",
    "* pos_neg(-1,1,True) -> False\n",
    "\n",
    "* pos_neg(1,6,True) -> False\n",
    "\n",
    "* pos_neg(-1,-9,False) -> False\n"
   ]
  },
  {
   "cell_type": "code",
   "execution_count": 89,
   "metadata": {},
   "outputs": [
    {
     "name": "stdout",
     "output_type": "stream",
     "text": [
      "True\n",
      "True\n",
      "True\n",
      "False\n",
      "False\n",
      "False\n"
     ]
    }
   ],
   "source": [
    "def pos_neg(a,b,c):\n",
    "    return (a<0 and b>0 and c==False) or (a>0 and b<0 and c==False) or (a<0 and b<0 and c==True)\n",
    "         \n",
    "print(pos_neg(1,-1,False))\n",
    "print(pos_neg(-1,1,False)) \n",
    "print(pos_neg(-4,-5,True))\n",
    "print(pos_neg(-1,1,True))\n",
    "print(pos_neg(1,6,True))\n",
    "print(pos_neg(-1,-9,False))"
   ]
  },
  {
   "cell_type": "code",
   "execution_count": null,
   "metadata": {},
   "outputs": [],
   "source": []
  },
  {
   "cell_type": "markdown",
   "metadata": {},
   "source": [
    "## Problem 5:\n",
    "#### Problem Statement : \n",
    "given an integer , return true if the given number is 10 within 100 or 200\n",
    "#### Constraints :\n",
    "1<=n<=10^9\n",
    "#### Test cases:\n",
    "* near_hundred(93) -> True\n",
    "\n",
    "* near_hundred(90) -> True\n",
    "\n",
    "* near_hundred(89) -> False\n"
   ]
  },
  {
   "cell_type": "code",
   "execution_count": 86,
   "metadata": {},
   "outputs": [
    {
     "name": "stdout",
     "output_type": "stream",
     "text": [
      "True\n",
      "True\n",
      "False\n"
     ]
    }
   ],
   "source": [
    "def near_hundred(n):\n",
    "    return (n<=110 and n>=90) or (n<=210 and n>=190)\n",
    "    \n",
    "print(near_hundred(93))\n",
    "print(near_hundred(90))\n",
    "print(near_hundred(89))"
   ]
  },
  {
   "cell_type": "code",
   "execution_count": null,
   "metadata": {},
   "outputs": [],
   "source": []
  },
  {
   "cell_type": "markdown",
   "metadata": {},
   "source": [
    "### Probelm 6: \n",
    "#### Problem Statement:\n",
    "Evaluate a polynomial for a given x \n",
    "#### Constraints\n",
    "1<=x<=1000\n",
    "#### Test Cases\n",
    "* polynomial(1) -> -4\n",
    "\n",
    "* polynomial(2) -> 12\n",
    "\n",
    "* polynomial(25) -> 16940"
   ]
  },
  {
   "cell_type": "code",
   "execution_count": 88,
   "metadata": {},
   "outputs": [
    {
     "name": "stdout",
     "output_type": "stream",
     "text": [
      "-4\n",
      "12\n",
      "16940\n"
     ]
    }
   ],
   "source": [
    "def polynomial(x):\n",
    "    return ((x**3)+2*(x**2)+3*(x)-10)\n",
    "     \n",
    "\n",
    "print(polynomial(1))\n",
    "print(polynomial(2))\n",
    "print(polynomial(25))"
   ]
  },
  {
   "cell_type": "code",
   "execution_count": null,
   "metadata": {},
   "outputs": [],
   "source": []
  },
  {
   "cell_type": "markdown",
   "metadata": {},
   "source": [
    "### Probelm 7: \n",
    "#### Problem Statement :\n",
    "To find the Factorial of a given number\n",
    "#### Constraints\n",
    "1<=n<=1000\n",
    "#### Test Cases\n",
    "* factorial(5) -> 120\n",
    "\n",
    "* factorial(8) -> 40320\n",
    "\n",
    "* factorial(6) -> 720"
   ]
  },
  {
   "cell_type": "code",
   "execution_count": 101,
   "metadata": {},
   "outputs": [
    {
     "name": "stdout",
     "output_type": "stream",
     "text": [
      "120\n",
      "40320\n",
      "720\n"
     ]
    }
   ],
   "source": [
    "def factorial(n):\n",
    "    if(n!=0):\n",
    "        f=n*factorial(n-1)\n",
    "        return f\n",
    "    else:\n",
    "        return 1\n",
    "\n",
    "print(factorial(5))\n",
    "print(factorial(8))\n",
    "print(factorial(6))"
   ]
  },
  {
   "cell_type": "code",
   "execution_count": null,
   "metadata": {},
   "outputs": [],
   "source": []
  },
  {
   "cell_type": "markdown",
   "metadata": {},
   "source": [
    "### Probelm 8: \n",
    "#### Problem Statement:\n",
    "Create a Random Number Generator as a Procedure which takes the Range(lb, ub) and returns a Random number in the given range\n",
    "#### Constraints\n",
    "1<=lb<=10\n",
    "\n",
    "10<ub<=100\n",
    "#### Test Cases\n",
    "* randomgenerator(1,101) -> within the range(2,101)"
   ]
  },
  {
   "cell_type": "markdown",
   "metadata": {},
   "source": [
    "# from random import randrange\n",
    "\n",
    "def randomgenerator(lb,ub):\n",
    "    return randrange(lb+1,ub)\n",
    "\n",
    "randomgenerator(1,101)"
   ]
  },
  {
   "cell_type": "code",
   "execution_count": 242,
   "metadata": {},
   "outputs": [
    {
     "data": {
      "text/plain": [
       "28"
      ]
     },
     "execution_count": 242,
     "metadata": {},
     "output_type": "execute_result"
    }
   ],
   "source": [
    "import random\n",
    "\n",
    "def randomgenerator(lb,ub):\n",
    "    return random.randint(lb+1,ub-1)\n",
    "\n",
    "randomgenerator(1,101)"
   ]
  },
  {
   "cell_type": "code",
   "execution_count": null,
   "metadata": {},
   "outputs": [],
   "source": []
  },
  {
   "cell_type": "markdown",
   "metadata": {},
   "source": [
    "### Probelm 9: \n",
    "#### Problem Statement: \n",
    "Given an integer n , Generate sum of n Random numbers in the range [0,10^9)"
   ]
  },
  {
   "cell_type": "code",
   "execution_count": 244,
   "metadata": {},
   "outputs": [
    {
     "data": {
      "text/plain": [
       "50208895392664529"
      ]
     },
     "execution_count": 244,
     "metadata": {},
     "output_type": "execute_result"
    }
   ],
   "source": [
    "import random\n",
    "\n",
    "def sumrandomnumbers(n,lb,ub):\n",
    "    sum = 0\n",
    "    for i in range(1,n+1):\n",
    "        sum=sum+random.randint(lb,ub)\n",
    "    return sum\n",
    "\n",
    "sumrandomnumbers(100,0,10**15)    "
   ]
  },
  {
   "cell_type": "code",
   "execution_count": null,
   "metadata": {},
   "outputs": [],
   "source": []
  },
  {
   "cell_type": "markdown",
   "metadata": {},
   "source": [
    "### Probelm 10: \n",
    "#### Problem Statement: \n",
    "Given an integer n , Generate natural numbers upto n\n",
    "#### Constraints\n",
    "1<=n<=1000"
   ]
  },
  {
   "cell_type": "code",
   "execution_count": 285,
   "metadata": {},
   "outputs": [
    {
     "name": "stdout",
     "output_type": "stream",
     "text": [
      "[1, 2, 3, 4, 5, 6, 7, 8, 9, 10, 11, 12, 13, 14, 15, 16, 17, 18, 19, 20, 21, 22, 23, 24, 25]\n"
     ]
    }
   ],
   "source": [
    "def natural(n):\n",
    "    a=[]\n",
    "    for i in range(1,n+1):\n",
    "        a.append(i)\n",
    "    return a\n",
    "    \n",
    "print(natural(25))"
   ]
  },
  {
   "cell_type": "code",
   "execution_count": null,
   "metadata": {},
   "outputs": [],
   "source": []
  },
  {
   "cell_type": "markdown",
   "metadata": {},
   "source": [
    "### Probelm 11: \n",
    "#### Problem Statement :\n",
    "Design a procedure to perform linear search on the list of n unsorted unique numbers. it takes an array and the key element to be searched and returns the index of the key element if found , else return -1.\n",
    "#### Constraints\n",
    "#### Test Cases\n",
    "* linearsearch([1,4,8,0,3,5,6],3) -> 4\n",
    "\n",
    "* linearsearch([15,12,9,6,3,-3],0) -> -1\n",
    "\n",
    "* linearsearch([321,543,567,789],567) -> 2"
   ]
  },
  {
   "cell_type": "code",
   "execution_count": 255,
   "metadata": {},
   "outputs": [
    {
     "name": "stdout",
     "output_type": "stream",
     "text": [
      "4\n",
      "-1\n",
      "2\n"
     ]
    }
   ],
   "source": [
    "\n",
    "def linearsearch(a,key):\n",
    "    for i in range(0,len(a)):\n",
    "        if(a[i]==key): return i\n",
    "            \n",
    "    return -1\n",
    "\n",
    "print(linearsearch([1,4,8,0,3,5,6],3))\n",
    "print(linearsearch([15,12,9,6,3,-3],0))\n",
    "print(linearsearch([321,543,567,789],567))"
   ]
  },
  {
   "cell_type": "code",
   "execution_count": null,
   "metadata": {},
   "outputs": [],
   "source": []
  },
  {
   "cell_type": "markdown",
   "metadata": {},
   "source": [
    "### Probelm 12: \n",
    "#### Problem Statement :\n",
    "Given an integer, check whether given number is prime or not\n",
    "#### Constraints\n",
    "1<=n<=1000\n",
    "#### Test Cases\n",
    "* isprime(6) -> False\n",
    "\n",
    "* isprime(31) -> True\n",
    "\n",
    "* isprime(47) -> True"
   ]
  },
  {
   "cell_type": "code",
   "execution_count": 287,
   "metadata": {},
   "outputs": [
    {
     "name": "stdout",
     "output_type": "stream",
     "text": [
      "False\n",
      "True\n",
      "True\n"
     ]
    }
   ],
   "source": [
    "def isprime(n):\n",
    "    for i in range(2,n):\n",
    "        if n%i==0:\n",
    "            return False\n",
    "    return True\n",
    "    \n",
    "print(isprime(6))\n",
    "print(isprime(31))\n",
    "print(isprime(47))"
   ]
  },
  {
   "cell_type": "code",
   "execution_count": null,
   "metadata": {},
   "outputs": [],
   "source": []
  },
  {
   "cell_type": "markdown",
   "metadata": {},
   "source": [
    "### Probelm 13: \n",
    "#### Problem Statement: \n",
    "To generate multiplication table of a given number from lower boundary to upper boundary\n",
    "#### Constraints\n",
    "1<=n<=100\n",
    "\n",
    "1<=lb<=20\n",
    "\n",
    "lb<=ub<=20\n",
    "#### Test Cases\n",
    "* mt(3,5,7) -> 3x5=15;    3x6=18;    3x7=21"
   ]
  },
  {
   "cell_type": "code",
   "execution_count": 267,
   "metadata": {},
   "outputs": [
    {
     "name": "stdout",
     "output_type": "stream",
     "text": [
      "3 x 5 = 15\n",
      "3 x 6 = 18\n",
      "3 x 7 = 21\n",
      "5 x 15 = 75\n",
      "5 x 16 = 80\n",
      "5 x 17 = 85\n",
      "25 x 18 = 450\n",
      "25 x 19 = 475\n",
      "25 x 20 = 500\n"
     ]
    }
   ],
   "source": [
    "def mt(n,lb,ub):\n",
    "    for i in range(lb,ub+1):\n",
    "        print(n,\"x\",i,\"=\",n*i)\n",
    "        \n",
    "mt(3,5,7)\n",
    "mt(5,15,17)\n",
    "mt(25,18,20)"
   ]
  },
  {
   "cell_type": "code",
   "execution_count": null,
   "metadata": {},
   "outputs": [],
   "source": []
  },
  {
   "cell_type": "markdown",
   "metadata": {},
   "source": [
    "### Probelm 14: \n",
    "#### Problem Statement:\n",
    "Procedure to print list of factors for a given number\n",
    "#### Constraints\n",
    "1<=n<=1000000\n",
    "#### Test Cases\n",
    "* factors(6) -> 1 2 3 6\n",
    "\n",
    "* factors(9) -> 1 3 9\n",
    "\n",
    "* factors(19) -> 1 19"
   ]
  },
  {
   "cell_type": "code",
   "execution_count": 281,
   "metadata": {},
   "outputs": [
    {
     "name": "stdout",
     "output_type": "stream",
     "text": [
      "[1, 2, 3, 6]\n",
      "[1, 3, 9]\n",
      "[1, 19]\n"
     ]
    }
   ],
   "source": [
    "def factors(n):\n",
    "    a=[]\n",
    "    for i in range(1,(n//2)+1):\n",
    "        if(n%i==0):\n",
    "            a.append(i)\n",
    "    a.append(n)\n",
    "    return a\n",
    "    \n",
    "print(factors(6))\n",
    "print(factors(9))\n",
    "print(factors(19))"
   ]
  },
  {
   "cell_type": "code",
   "execution_count": null,
   "metadata": {},
   "outputs": [],
   "source": []
  },
  {
   "cell_type": "markdown",
   "metadata": {},
   "source": [
    "### Probelm 15: \n",
    "#### Problem Statement: \n",
    "given a number , create a procedure to print number of digits in that given number\n",
    "#### Constraints\n",
    "1<=n<=10^9\n",
    "#### Test Cases\n",
    "* countdigits(123456) -> 6\n",
    "* countdigits(986) -> 3\n",
    "* countdigits(854864611846418) -> 15"
   ]
  },
  {
   "cell_type": "code",
   "execution_count": 275,
   "metadata": {},
   "outputs": [
    {
     "name": "stdout",
     "output_type": "stream",
     "text": [
      "6\n",
      "3\n",
      "15\n"
     ]
    }
   ],
   "source": [
    "def countdigits(n):\n",
    "    return len(str(n))\n",
    "\n",
    "print(countdigits(123456))\n",
    "print(countdigits(986))\n",
    "print(countdigits(854864611846418))"
   ]
  },
  {
   "cell_type": "code",
   "execution_count": null,
   "metadata": {},
   "outputs": [],
   "source": []
  },
  {
   "cell_type": "markdown",
   "metadata": {},
   "source": [
    "### Probelm 16: \n",
    "#### Problem Statement:\n",
    "Given a number n , check whether th egiven number is perfect or not(i.e, sum of the factors except itself should be equal to itself)\n",
    "#### Constraints\n",
    "1<=n<=10^9\n",
    "#### Test Cases\n",
    "* isperfect(6) -> True\n",
    "\n",
    "* isperfect(28) -> True\n",
    "\n",
    "* isperfect(25) -> False"
   ]
  },
  {
   "cell_type": "code",
   "execution_count": 291,
   "metadata": {},
   "outputs": [
    {
     "name": "stdout",
     "output_type": "stream",
     "text": [
      "True\n",
      "True\n",
      "False\n"
     ]
    }
   ],
   "source": [
    "def isperfect(n):\n",
    "    sum=0\n",
    "    for i in range(1,n//2+1):\n",
    "        if(n%i==0):\n",
    "            sum=sum+i\n",
    "    if sum==n:\n",
    "        return True\n",
    "    else:\n",
    "        return False\n",
    "\n",
    "print(isperfect(6))\n",
    "print(isperfect(28))\n",
    "print(isperfect(25))"
   ]
  },
  {
   "cell_type": "code",
   "execution_count": null,
   "metadata": {},
   "outputs": [],
   "source": []
  },
  {
   "cell_type": "markdown",
   "metadata": {},
   "source": [
    "### Probelm 17: \n",
    "#### Problem Statement: \n",
    "Procedure to generate first n perfect numbers\n",
    "#### Constraints\n",
    "1<=n<=10^9\n",
    "#### Test Cases\n",
    "* generateperfect(2) -> 6 28\n",
    "* generateperfect(4) -> 6 28 496 8128"
   ]
  },
  {
   "cell_type": "code",
   "execution_count": null,
   "metadata": {},
   "outputs": [],
   "source": [
    "def generateperfect(n):\n",
    "    a=[]\n",
    "    for i in range(2,10**9):\n",
    "        sum=0\n",
    "        for j in range(1,i):\n",
    "            if(i%j==0):\n",
    "                sum=sum+j\n",
    "        if sum==i:\n",
    "            a.append(i)\n",
    "            n=n-1\n",
    "        if n==0:\n",
    "            return a\n",
    "        \n",
    "generateperfect(5)"
   ]
  },
  {
   "cell_type": "code",
   "execution_count": null,
   "metadata": {},
   "outputs": [],
   "source": []
  }
 ],
 "metadata": {
  "kernelspec": {
   "display_name": "Python 3",
   "language": "python",
   "name": "python3"
  },
  "language_info": {
   "codemirror_mode": {
    "name": "ipython",
    "version": 3
   },
   "file_extension": ".py",
   "mimetype": "text/x-python",
   "name": "python",
   "nbconvert_exporter": "python",
   "pygments_lexer": "ipython3",
   "version": "3.7.3"
  }
 },
 "nbformat": 4,
 "nbformat_minor": 2
}
