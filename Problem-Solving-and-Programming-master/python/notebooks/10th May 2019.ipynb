{
 "cells": [
  {
   "cell_type": "markdown",
   "metadata": {},
   "source": [
    "# Problem solving and Programming\n",
    "\n",
    "### Day no - 12\n",
    "### Date - 10th May 2019\n",
    "\n"
   ]
  },
  {
   "cell_type": "markdown",
   "metadata": {},
   "source": [
    "### Problem 1: \n",
    "#### Problem Statement:\n",
    "Design a procedure calculate the maximum, minimum and average of N numbers\n",
    "\n",
    "#### Test Cases\n",
    "* data( a[1,2,3,4,5] ) -> Max = 5, Min = 1, Avg = 3\n"
   ]
  },
  {
   "cell_type": "code",
   "execution_count": 3,
   "metadata": {},
   "outputs": [
    {
     "data": {
      "text/plain": [
       "(5, 1, 3)"
      ]
     },
     "execution_count": 3,
     "metadata": {},
     "output_type": "execute_result"
    }
   ],
   "source": [
    "def min_max_avg(a):\n",
    "    return min(a),max(a),(sum(a)//len(a))\n",
    "\n",
    "min_max_avg([1,2,3,4,5])    "
   ]
  },
  {
   "cell_type": "code",
   "execution_count": null,
   "metadata": {},
   "outputs": [],
   "source": []
  },
  {
   "cell_type": "markdown",
   "metadata": {},
   "source": [
    "### Problem 2: \n",
    "#### Problem Statement: \n",
    "Design a procedure to determine if a given string is a Palindrome\n",
    "\n",
    "#### Test Cases\n",
    "* Palindrome(\"racecar\") -> True\n",
    "\n",
    "* Palindrome(\"raptor\") -> False"
   ]
  },
  {
   "cell_type": "code",
   "execution_count": 5,
   "metadata": {},
   "outputs": [
    {
     "name": "stdout",
     "output_type": "stream",
     "text": [
      "True\n",
      "False\n"
     ]
    }
   ],
   "source": [
    "def palindrome(str):\n",
    "    return str==str[len(str)-1::-1]\n",
    "\n",
    "print(palindrome(\"racecar\"))\n",
    "print(palindrome(\"raptor\"))"
   ]
  },
  {
   "cell_type": "code",
   "execution_count": null,
   "metadata": {},
   "outputs": [],
   "source": []
  },
  {
   "cell_type": "markdown",
   "metadata": {},
   "source": [
    "### Problem 3: \n",
    "#### Problem Statement: \n",
    "Design a procedure to calculate the squareroot of a number \"without using the math function sqrt\".\n",
    "#### Constraints:\n",
    "1<=n<=10^9\n",
    "#### Test Cases\n",
    "* squareroot(36) -> 6\n",
    "* squareroot(40) -> 6.324555"
   ]
  },
  {
   "cell_type": "code",
   "execution_count": 8,
   "metadata": {},
   "outputs": [
    {
     "name": "stdout",
     "output_type": "stream",
     "text": [
      "6.0\n",
      "6.324555320336759\n"
     ]
    }
   ],
   "source": [
    "def squareroot(n):\n",
    "    return n**0.5\n",
    "\n",
    "print(squareroot(36))\n",
    "print(squareroot(40))"
   ]
  },
  {
   "cell_type": "code",
   "execution_count": null,
   "metadata": {},
   "outputs": [],
   "source": []
  },
  {
   "cell_type": "markdown",
   "metadata": {},
   "source": [
    "### Problem 4: \n",
    "#### Problem Statement: \n",
    "Design a procedure to determine the frequency count of numbers in a given list\n",
    "#### Constraints\n",
    "size of array : 1<=n1<=10000\n",
    "#### Test Cases\n",
    "Frequency( a[1,3,2,1] ) -> 1 : 2, 2 : 1, 3 : 1"
   ]
  },
  {
   "cell_type": "code",
   "execution_count": 24,
   "metadata": {},
   "outputs": [
    {
     "data": {
      "text/plain": [
       "{1: 2, 2: 1, 3: 1}"
      ]
     },
     "execution_count": 24,
     "metadata": {},
     "output_type": "execute_result"
    }
   ],
   "source": [
    "\n",
    "def unique(ar): \n",
    "    u = [] \n",
    "    for x in ar: \n",
    "        if x not in u: \n",
    "            u.append(x) \n",
    "    return u\n",
    "def frequency(a):\n",
    "    d={}\n",
    "    u=unique(a)\n",
    "    for x in u:\n",
    "        count=0\n",
    "        for i in range(len(a)):\n",
    "            if x==a[i]:\n",
    "                count=count+1\n",
    "        d[x]=count   \n",
    "    return d\n",
    "\n",
    "frequency([1,2,3,1])"
   ]
  },
  {
   "cell_type": "code",
   "execution_count": null,
   "metadata": {},
   "outputs": [],
   "source": []
  },
  {
   "cell_type": "markdown",
   "metadata": {},
   "source": [
    "## Problems using Recursion :"
   ]
  },
  {
   "cell_type": "markdown",
   "metadata": {},
   "source": [
    "### Problem 5: \n",
    "#### Problem Statement:\n",
    "Define a recursive function to generate power of a number \n",
    "#### Constraints\n",
    "1<=n<=100\n",
    "\n",
    "1<=r<=10000\n",
    "#### Test Cases\n",
    "* power(2,10) -> 1024\n",
    "* power(25,3) -> 15625"
   ]
  },
  {
   "cell_type": "code",
   "execution_count": 30,
   "metadata": {},
   "outputs": [
    {
     "data": {
      "text/plain": [
       "15625"
      ]
     },
     "execution_count": 30,
     "metadata": {},
     "output_type": "execute_result"
    }
   ],
   "source": [
    "def power(n,r):\n",
    "    if r==1:\n",
    "        return n\n",
    "    else:\n",
    "        return power(n,r-1)*n\n",
    "\n",
    "power(25,3)"
   ]
  },
  {
   "cell_type": "code",
   "execution_count": null,
   "metadata": {},
   "outputs": [],
   "source": []
  },
  {
   "cell_type": "markdown",
   "metadata": {},
   "source": [
    "### Problem 6: \n",
    "#### Problem Statement :\n",
    "To find the Factorial of a given number using recursion\n",
    "#### Constraints\n",
    "1<=n<=1000\n",
    "#### Test Cases\n",
    "* factorial(5) -> 120\n",
    "\n",
    "* factorial(8) -> 40320\n",
    "\n",
    "* factorial(6) -> 720"
   ]
  },
  {
   "cell_type": "code",
   "execution_count": 33,
   "metadata": {},
   "outputs": [
    {
     "name": "stdout",
     "output_type": "stream",
     "text": [
      "120\n",
      "40320\n",
      "720\n"
     ]
    }
   ],
   "source": [
    "def factorial(n):\n",
    "    if(n!=0):\n",
    "        return n*factorial(n-1)\n",
    "    else:\n",
    "        return 1\n",
    "\n",
    "print(factorial(5))\n",
    "print(factorial(8))\n",
    "print(factorial(6))"
   ]
  },
  {
   "cell_type": "code",
   "execution_count": null,
   "metadata": {},
   "outputs": [],
   "source": []
  },
  {
   "cell_type": "markdown",
   "metadata": {},
   "source": [
    "### Problem 7: \n",
    "#### Problem Statement:\n",
    "To find GCD of two numbers using recursion\n",
    "#### Constraints\n",
    "1<=a<=10^9\n",
    "\n",
    "1<=b<=10^9\n",
    "#### Test Cases\n",
    "* gcd(42,12) -> 6\n",
    "* gcd(39,12) -> 3"
   ]
  },
  {
   "cell_type": "code",
   "execution_count": 41,
   "metadata": {},
   "outputs": [
    {
     "data": {
      "text/plain": [
       "3"
      ]
     },
     "execution_count": 41,
     "metadata": {},
     "output_type": "execute_result"
    }
   ],
   "source": [
    "def gcd(a,b):\n",
    "    if b%a==0:\n",
    "        return a\n",
    "    else:\n",
    "        return gcd(b%a,a)\n",
    "    \n",
    "gcd(39,12)"
   ]
  },
  {
   "cell_type": "code",
   "execution_count": null,
   "metadata": {},
   "outputs": [],
   "source": []
  },
  {
   "cell_type": "markdown",
   "metadata": {},
   "source": [
    "### Problem 8: \n",
    "#### Problem Statement: \n",
    "Towers Of Hanoi using recursion\n",
    "\n",
    "\n",
    "#### Description:\n",
    "\n",
    "n discs -> move n-1 discs from source to temporary then move nth disc from source to destination and then move n-1 discs from temporary to destination\n",
    "\n",
    "3 discs -> move 2 discs from source to temporary then move 3rd disc from source to destination and then move the 2 discs from temporary to destination"
   ]
  },
  {
   "cell_type": "code",
   "execution_count": 46,
   "metadata": {},
   "outputs": [
    {
     "name": "stdout",
     "output_type": "stream",
     "text": [
      "move disk 1 from a to c\n",
      "move disk 2 from a to b\n",
      "move disk 1 from c to b\n",
      "move disk 3 from a to c\n",
      "move disk 1 from b to a\n",
      "move disk 2 from b to c\n",
      "move disk 1 from a to c\n"
     ]
    }
   ],
   "source": [
    " def towersofhanoi(n,source,temp,dest):\n",
    "        if n==1:\n",
    "            print('move disk',n,'from',source,'to',dest)\n",
    "            return\n",
    "        else:\n",
    "            towersofhanoi(n-1,source,dest,temp)\n",
    "            print('move disk',n,'from',source,'to',dest)\n",
    "            towersofhanoi(n-1,temp,source,dest)\n",
    "            return\n",
    "\n",
    "towersofhanoi(3,'a','b','c')"
   ]
  },
  {
   "cell_type": "code",
   "execution_count": null,
   "metadata": {},
   "outputs": [],
   "source": []
  },
  {
   "cell_type": "markdown",
   "metadata": {},
   "source": [
    "### Problem 9: \n",
    "#### Problem Statement: \n",
    "Generate the nth Fibonacci number using recursion \n",
    "#### Constraints\n",
    "1<=n<=100\n",
    "#### Test Cases\n",
    "* fibonacci(5) -> 3\n",
    "* fibonacci(8) -> 13\n"
   ]
  },
  {
   "cell_type": "code",
   "execution_count": 82,
   "metadata": {},
   "outputs": [
    {
     "data": {
      "text/plain": [
       "13"
      ]
     },
     "execution_count": 82,
     "metadata": {},
     "output_type": "execute_result"
    }
   ],
   "source": [
    "def fibonacci(n):\n",
    "    if n==1:\n",
    "        return 0\n",
    "    if n==2:\n",
    "        return 1\n",
    "    else:\n",
    "        return fibonacci(n-1)+fibonacci(n-2)\n",
    "    \n",
    "fibonacci(8)"
   ]
  },
  {
   "cell_type": "code",
   "execution_count": null,
   "metadata": {},
   "outputs": [],
   "source": []
  },
  {
   "cell_type": "markdown",
   "metadata": {},
   "source": [
    "### Problem 10: \n",
    "#### Problem Statement: \n",
    "Define a function to identify the number of times a substring is repeating in a given string\n",
    "\n",
    "#### Test Cases\n",
    "* substringcount('str','substr') -> 1\n",
    "* substringcount('1234567891122334455','3') -> 3\n",
    "* substringcount('abccddccc','cc') -> 3\n",
    "* substringcount('aaaaaaa','aaa')) -> 5"
   ]
  },
  {
   "cell_type": "code",
   "execution_count": 81,
   "metadata": {},
   "outputs": [
    {
     "name": "stdout",
     "output_type": "stream",
     "text": [
      "1\n",
      "3\n",
      "3\n",
      "5\n"
     ]
    }
   ],
   "source": [
    "def substringcount(a,b):\n",
    "    count=0\n",
    "    if len(a)<len(b):\n",
    "        return substringcount(b,a)\n",
    "    else:\n",
    "        j=0\n",
    "        for i in range(len(b)-1,len(a)):\n",
    "            if a[j:i+1]==b:\n",
    "                count=count+1\n",
    "            j=j+1\n",
    "        return count\n",
    "    \n",
    "print(substringcount('str','substr'))\n",
    "print(substringcount('1234567891122334455','3'))\n",
    "print(substringcount('abccddccc','cc'))\n",
    "print(substringcount('aaaaaaa','aaa'))"
   ]
  },
  {
   "cell_type": "code",
   "execution_count": null,
   "metadata": {},
   "outputs": [],
   "source": []
  },
  {
   "cell_type": "markdown",
   "metadata": {},
   "source": [
    "### Problem 11: \n",
    "#### Problem Statement: \n",
    "Define a function to merge the characters of two strings alternatively.the remaining characters of the longer string are printed in the same order at the end\n",
    "#### Test Cases\n",
    "* mergecharacters('abcd','abcd') -> 'aabbccdd'\n",
    "* mergecharacters('abc','123456') -> 'a1b2c3456'\n",
    "* mergecharacters('0','123456') -> '0123456'"
   ]
  },
  {
   "cell_type": "code",
   "execution_count": 131,
   "metadata": {},
   "outputs": [
    {
     "name": "stdout",
     "output_type": "stream",
     "text": [
      "aabbccdd\n",
      "1a2b3c456\n",
      "0123456\n"
     ]
    }
   ],
   "source": [
    "def mergecharacters(a,b):\n",
    "    c=a[0]+b[0]\n",
    "    if len(a)<len(b):\n",
    "        z=b\n",
    "        x=len(a)\n",
    "        y=len(b)\n",
    "    else:\n",
    "        z=a\n",
    "        x=len(b)\n",
    "        y=len(a)\n",
    "    for i in range(1,x):\n",
    "        c=c+a[i]+b[i]\n",
    "    for i in range(x,y):\n",
    "        c=c+z[i]\n",
    "    \n",
    "    return c\n",
    "\n",
    "print(mergecharacters('abcd','abcd'))\n",
    "print(mergecharacters('123456','abc'))\n",
    "print(mergecharacters('0','123456'))\n",
    "    "
   ]
  },
  {
   "cell_type": "code",
   "execution_count": null,
   "metadata": {},
   "outputs": [],
   "source": []
  },
  {
   "cell_type": "markdown",
   "metadata": {},
   "source": [
    "### Problem 12: \n",
    "#### Problem Statement:\n",
    "Define a function to convert binary number to the corresponding decimal number\n",
    "#### Test Cases\n",
    "* binarytodecimal(1100) -> 12\n",
    "* binarytodecimal(1010) -> 10\n",
    "* binarytodecimal(111000) -> 56\n"
   ]
  },
  {
   "cell_type": "code",
   "execution_count": 132,
   "metadata": {},
   "outputs": [
    {
     "name": "stdout",
     "output_type": "stream",
     "text": [
      "12\n",
      "10\n",
      "56\n"
     ]
    }
   ],
   "source": [
    "def binarytodecimal(n):\n",
    "    sum=0\n",
    "    for i in range(0,len(str(n))):\n",
    "        a=n%10\n",
    "        n=n//10\n",
    "        sum=sum+(a*(2**i))\n",
    "    return sum\n",
    "\n",
    "print(binarytodecimal(1100))\n",
    "print(binarytodecimal(1010))\n",
    "print(binarytodecimal(111000))"
   ]
  }
 ],
 "metadata": {
  "kernelspec": {
   "display_name": "Python 3",
   "language": "python",
   "name": "python3"
  },
  "language_info": {
   "codemirror_mode": {
    "name": "ipython",
    "version": 3
   },
   "file_extension": ".py",
   "mimetype": "text/x-python",
   "name": "python",
   "nbconvert_exporter": "python",
   "pygments_lexer": "ipython3",
   "version": "3.7.3"
  }
 },
 "nbformat": 4,
 "nbformat_minor": 2
}
